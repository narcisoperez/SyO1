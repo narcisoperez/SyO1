{
  "nbformat": 4,
  "nbformat_minor": 0,
  "metadata": {
    "colab": {
      "provenance": [],
      "authorship_tag": "ABX9TyPRO3kX3zYMGgEBgoI76zg6",
      "include_colab_link": true
    },
    "kernelspec": {
      "name": "python3",
      "display_name": "Python 3"
    },
    "language_info": {
      "name": "python"
    }
  },
  "cells": [
    {
      "cell_type": "markdown",
      "metadata": {
        "id": "view-in-github",
        "colab_type": "text"
      },
      "source": [
        "<a href=\"https://colab.research.google.com/github/narcisoperez/SyO1/blob/main/EJ_SISTEMA_TAXI_US.ipynb\" target=\"_parent\"><img src=\"https://colab.research.google.com/assets/colab-badge.svg\" alt=\"Open In Colab\"/></a>"
      ]
    },
    {
      "cell_type": "markdown",
      "source": [
        "# Usuario ocasional:"
      ],
      "metadata": {
        "id": "olfTH8S9PB-v"
      }
    },
    {
      "cell_type": "code",
      "execution_count": 2,
      "metadata": {
        "colab": {
          "base_uri": "https://localhost:8080/"
        },
        "id": "a3mecsZZO1Jj",
        "outputId": "448919ac-985e-473f-b365-b3f021639ea3"
      },
      "outputs": [
        {
          "output_type": "stream",
          "name": "stdout",
          "text": [
            "Solicitando taxi desde Mi ubicación hacia Mi destino...\n",
            "Taxi confirmado. Espere por favor.\n"
          ]
        }
      ],
      "source": [
        "from time import sleep\n",
        "\n",
        "def solicitar_taxi(ubicacion_actual, destino):\n",
        "    print(f\"Solicitando taxi desde {ubicacion_actual} hacia {destino}...\")\n",
        "    sleep(10)\n",
        "    print(\"Taxi confirmado. Espere por favor.\")\n",
        "\n",
        "def mostrar_disponibilidad_taxis():\n",
        "    print(\"Mostrando disponibilidad de taxis cercanos en tiempo real...\")\n",
        "    # Simulación de actualización de disponibilidad de taxis\n",
        "    sleep(1)\n",
        "    print(\"Taxis disponibles: 5\")\n",
        "\n",
        "def procesar_pago(metodo_pago):\n",
        "    print(f\"Procesando pago con {metodo_pago}...\")\n",
        "    sleep(2)\n",
        "    print(\"Pago completado. ¡Gracias por utilizar nuestro servicio!\")\n",
        "\n",
        "# Ejemplos de uso\n",
        "solicitar_taxi(\"Mi ubicación\", \"Mi destino\")\n",
        "# mostrar_disponibilidad_taxis()\n",
        "# procesar_pago(\"tarjeta de crédito\")\n"
      ]
    }
  ]
}